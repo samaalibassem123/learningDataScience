{
 "cells": [
  {
   "cell_type": "markdown",
   "id": "e2b20030-ebff-482f-b54e-3c22c011f8a8",
   "metadata": {},
   "source": [
    "# LEARN NUMPY "
   ]
  },
  {
   "cell_type": "code",
   "execution_count": 1,
   "id": "5281fbe7-f2ab-4d27-bf82-0258934b1b72",
   "metadata": {},
   "outputs": [
    {
     "name": "stdout",
     "output_type": "stream",
     "text": [
      "Requirement already satisfied: numpy in c:\\users\\micro\\anaconda3\\lib\\site-packages (1.26.4)\n"
     ]
    }
   ],
   "source": [
    "!pip install numpy"
   ]
  },
  {
   "cell_type": "code",
   "execution_count": 2,
   "id": "29cce37e-abf0-4de6-b506-a5842c630f8d",
   "metadata": {},
   "outputs": [],
   "source": [
    "import numpy as np"
   ]
  },
  {
   "cell_type": "markdown",
   "id": "da1f5b61-7e57-4474-9b74-f60f369d7073",
   "metadata": {},
   "source": [
    "# 1.Create"
   ]
  },
  {
   "cell_type": "code",
   "execution_count": 3,
   "id": "f55787f3-281d-4c81-8094-9a41d77f57c7",
   "metadata": {},
   "outputs": [],
   "source": [
    "data = np.random.rand(2,3,4)\n",
    "zeroes = np.zeros((2,2,2))\n",
    "full = np.full((2,2,2), 7)\n",
    "ones = np.ones((2,2,2))"
   ]
  },
  {
   "cell_type": "code",
   "execution_count": 4,
   "id": "9ef9711f-cd2c-4ab8-b90d-cc8a2859effb",
   "metadata": {},
   "outputs": [
    {
     "data": {
      "text/plain": [
       "array([[[0.03592395, 0.41285886, 0.02292665, 0.79880566],\n",
       "        [0.19403597, 0.32221262, 0.31408661, 0.61384993],\n",
       "        [0.27423726, 0.01150558, 0.21327951, 0.22285844]],\n",
       "\n",
       "       [[0.43440084, 0.52813506, 0.50949252, 0.60054039],\n",
       "        [0.46661616, 0.16367216, 0.21902003, 0.69611819],\n",
       "        [0.01330334, 0.12093863, 0.41339077, 0.86586317]]])"
      ]
     },
     "execution_count": 4,
     "metadata": {},
     "output_type": "execute_result"
    }
   ],
   "source": [
    "data"
   ]
  },
  {
   "cell_type": "code",
   "execution_count": 5,
   "id": "cb6f6a7a-467f-4a86-89a9-ca58c7e676e6",
   "metadata": {},
   "outputs": [
    {
     "data": {
      "text/plain": [
       "array([[[0., 0.],\n",
       "        [0., 0.]],\n",
       "\n",
       "       [[0., 0.],\n",
       "        [0., 0.]]])"
      ]
     },
     "execution_count": 5,
     "metadata": {},
     "output_type": "execute_result"
    }
   ],
   "source": [
    "zeroes"
   ]
  },
  {
   "cell_type": "code",
   "execution_count": 6,
   "id": "a628924e-77c3-461a-813a-40ed0b8497f5",
   "metadata": {},
   "outputs": [
    {
     "data": {
      "text/plain": [
       "array([[[7, 7],\n",
       "        [7, 7]],\n",
       "\n",
       "       [[7, 7],\n",
       "        [7, 7]]])"
      ]
     },
     "execution_count": 6,
     "metadata": {},
     "output_type": "execute_result"
    }
   ],
   "source": [
    "full"
   ]
  },
  {
   "cell_type": "code",
   "execution_count": 7,
   "id": "ba634804-f7cc-40a0-a573-9e8f36d38759",
   "metadata": {},
   "outputs": [
    {
     "data": {
      "text/plain": [
       "array([[[1., 1.],\n",
       "        [1., 1.]],\n",
       "\n",
       "       [[1., 1.],\n",
       "        [1., 1.]]])"
      ]
     },
     "execution_count": 7,
     "metadata": {},
     "output_type": "execute_result"
    }
   ],
   "source": [
    "ones"
   ]
  },
  {
   "cell_type": "code",
   "execution_count": 8,
   "id": "605d4ab1-6dc8-4c61-b035-9e2761672c81",
   "metadata": {},
   "outputs": [],
   "source": [
    "arr = np.array([[1,2,3],[1,2,3]])"
   ]
  },
  {
   "cell_type": "code",
   "execution_count": null,
   "id": "8a162dcd-1b18-4d70-86d1-7cad87e8d178",
   "metadata": {},
   "outputs": [
    {
     "data": {
      "text/plain": [
       "array([[1, 2, 3],\n",
       "       [1, 2, 3]])"
      ]
     },
     "execution_count": 9,
     "metadata": {},
     "output_type": "execute_result"
    }
   ],
   "source": [
    "arr"
   ]
  },
  {
   "cell_type": "code",
   "execution_count": null,
   "id": "cff25216-13ce-4cb0-95ab-6b30c9bf2517",
   "metadata": {},
   "outputs": [],
   "source": [
    "type(arr)"
   ]
  },
  {
   "cell_type": "markdown",
   "id": "61063d6d-4c51-4f50-a2b9-c6d86897a23c",
   "metadata": {},
   "source": [
    "# 2.Read"
   ]
  },
  {
   "cell_type": "code",
   "execution_count": null,
   "id": "81d0bd8f-482a-4c4b-bb48-3acc67dae1a4",
   "metadata": {},
   "outputs": [],
   "source": [
    "#Attributes\n",
    "shape = data.shape\n",
    "size = data.size\n",
    "types = data.dtype"
   ]
  },
  {
   "cell_type": "code",
   "execution_count": null,
   "id": "c3d794aa-0413-4465-91ec-5d1e2e98f520",
   "metadata": {},
   "outputs": [],
   "source": [
    "shape"
   ]
  },
  {
   "cell_type": "code",
   "execution_count": null,
   "id": "bb319b88-58c2-447e-bc21-a2a8dc6f11a3",
   "metadata": {},
   "outputs": [],
   "source": [
    "size"
   ]
  },
  {
   "cell_type": "code",
   "execution_count": null,
   "id": "a8a4d8a1-525a-40b3-b541-e7377742f8fa",
   "metadata": {},
   "outputs": [],
   "source": [
    "types"
   ]
  },
  {
   "cell_type": "code",
   "execution_count": null,
   "id": "b4fafd9d-f87b-4894-9851-aec6163779d2",
   "metadata": {},
   "outputs": [],
   "source": [
    "# Slicing\n",
    "arr = data[0]\n",
    "slicer = data[0][0:2]\n",
    "reverse = data[-1]\n",
    "singleval = data[0][0][0]"
   ]
  },
  {
   "cell_type": "code",
   "execution_count": null,
   "id": "e765d5ef-e483-441b-9b5f-e26e588211de",
   "metadata": {},
   "outputs": [],
   "source": [
    "data"
   ]
  },
  {
   "cell_type": "code",
   "execution_count": null,
   "id": "c2388dc7-7866-4e16-afd7-26794fccf88b",
   "metadata": {},
   "outputs": [],
   "source": [
    "arr"
   ]
  },
  {
   "cell_type": "code",
   "execution_count": null,
   "id": "019f99d7-baf9-4eba-8200-a6b20725c7a3",
   "metadata": {},
   "outputs": [],
   "source": [
    "slicer"
   ]
  },
  {
   "cell_type": "code",
   "execution_count": null,
   "id": "d63cc72b-441e-445d-88de-3c1f5ce7b95a",
   "metadata": {},
   "outputs": [],
   "source": [
    "reverse"
   ]
  },
  {
   "cell_type": "code",
   "execution_count": null,
   "id": "a7913c0c-76b5-4cd7-8a54-7e95f74a695e",
   "metadata": {},
   "outputs": [],
   "source": [
    "singleval"
   ]
  },
  {
   "cell_type": "markdown",
   "id": "88a8b7c9-ed6b-466b-b3fd-ff6f912d0b52",
   "metadata": {},
   "source": [
    "# 3. Update"
   ]
  },
  {
   "cell_type": "code",
   "execution_count": null,
   "id": "2fc21e0f-9b2b-48f8-b198-edad803c29fa",
   "metadata": {},
   "outputs": [],
   "source": [
    "list1 = np.random.rand(10)\n",
    "list2 = np.random.rand(10)"
   ]
  },
  {
   "cell_type": "code",
   "execution_count": null,
   "id": "095600d0-d310-4881-bf38-68a2851d2476",
   "metadata": {},
   "outputs": [],
   "source": [
    "list2"
   ]
  },
  {
   "cell_type": "code",
   "execution_count": null,
   "id": "53e0f997-332b-492b-bb48-e3bf018dc618",
   "metadata": {},
   "outputs": [],
   "source": [
    "#Basic Math\n",
    "add = np.add(list1, list2)\n",
    "sub = np.subtract(list1, list2)\n",
    "div = np.divide(list1, list2)\n",
    "mult = np.multiply(list1, list2)\n",
    "dot = np.dot(list1, list2)"
   ]
  },
  {
   "cell_type": "code",
   "execution_count": null,
   "id": "3ab87ebf-8e71-49a0-b78e-1ce5f582585b",
   "metadata": {},
   "outputs": [],
   "source": [
    "add"
   ]
  },
  {
   "cell_type": "code",
   "execution_count": null,
   "id": "cb7b22a9-d3de-4bf2-a9b2-7fbfb366a13c",
   "metadata": {},
   "outputs": [],
   "source": [
    "sub"
   ]
  },
  {
   "cell_type": "code",
   "execution_count": null,
   "id": "e54b359b-6139-45e6-8f54-f1fd5c338044",
   "metadata": {},
   "outputs": [],
   "source": [
    "div"
   ]
  },
  {
   "cell_type": "code",
   "execution_count": null,
   "id": "580f87db-6ebd-4aba-afff-bb563ec4ace4",
   "metadata": {},
   "outputs": [],
   "source": [
    "mult"
   ]
  },
  {
   "cell_type": "code",
   "execution_count": null,
   "id": "99fa1a1a-261e-4827-b639-aa214ff149b5",
   "metadata": {},
   "outputs": [],
   "source": [
    "dot"
   ]
  },
  {
   "cell_type": "code",
   "execution_count": null,
   "id": "e9720dd1-1680-457c-893f-a2f533c4ee6b",
   "metadata": {},
   "outputs": [],
   "source": [
    "# Stat Functions\n",
    "sqrt = np.sqrt(25)\n",
    "ab = np.abs(-2)\n",
    "power = np.power(2,7)\n",
    "log = np.log(25)\n",
    "exp = np.exp([2,3])\n",
    "mins = np.min(list1)\n",
    "maxs = np.max(list1)"
   ]
  },
  {
   "cell_type": "code",
   "execution_count": null,
   "id": "1b03f714-fe1d-4d4c-a80d-7bb0fc7d0cda",
   "metadata": {},
   "outputs": [],
   "source": [
    "sqrt"
   ]
  },
  {
   "cell_type": "code",
   "execution_count": null,
   "id": "07aefefb-d0e5-4993-b4ba-61d86d39d7fb",
   "metadata": {},
   "outputs": [],
   "source": [
    "ab"
   ]
  },
  {
   "cell_type": "code",
   "execution_count": null,
   "id": "5f2c6cbc-0b57-4fb9-bc95-ccfc0eb7dc07",
   "metadata": {},
   "outputs": [],
   "source": [
    "power"
   ]
  },
  {
   "cell_type": "code",
   "execution_count": null,
   "id": "7fd5f738-c641-4558-9579-2238ee0a33de",
   "metadata": {},
   "outputs": [],
   "source": [
    "log"
   ]
  },
  {
   "cell_type": "code",
   "execution_count": null,
   "id": "37fe8250-d4d4-4d64-a5fa-f1dc8513ea83",
   "metadata": {},
   "outputs": [],
   "source": [
    "exp"
   ]
  },
  {
   "cell_type": "code",
   "execution_count": null,
   "id": "3891af42-4101-43e9-aa81-6531fa17cfda",
   "metadata": {},
   "outputs": [],
   "source": [
    "mins"
   ]
  },
  {
   "cell_type": "code",
   "execution_count": null,
   "id": "5add6a3c-9d1e-476b-99c8-f8bb5dd58951",
   "metadata": {},
   "outputs": [],
   "source": [
    "maxs"
   ]
  },
  {
   "cell_type": "code",
   "execution_count": null,
   "id": "ff544d15-9e48-429c-af14-11365c126a97",
   "metadata": {},
   "outputs": [],
   "source": [
    "data[0][0][0] = 0"
   ]
  },
  {
   "cell_type": "code",
   "execution_count": null,
   "id": "1edc9aa5-9f60-4822-b059-b2abae01ea4c",
   "metadata": {},
   "outputs": [],
   "source": [
    "data"
   ]
  },
  {
   "cell_type": "code",
   "execution_count": null,
   "id": "d9051b29-15cd-4d9c-a669-6fcaee5df694",
   "metadata": {},
   "outputs": [],
   "source": [
    "data.sort()"
   ]
  },
  {
   "cell_type": "code",
   "execution_count": null,
   "id": "42a16e8e-791a-40f3-92fc-8d6687093e81",
   "metadata": {},
   "outputs": [],
   "source": [
    "data"
   ]
  },
  {
   "cell_type": "code",
   "execution_count": null,
   "id": "c1bf7fe9-c300-4c22-9418-58ec642990fb",
   "metadata": {},
   "outputs": [],
   "source": [
    "data.shape"
   ]
  },
  {
   "cell_type": "code",
   "execution_count": null,
   "id": "9f3f2565-4bd1-4ad1-9a7b-f4c33f2de8e1",
   "metadata": {},
   "outputs": [],
   "source": [
    "# -1 stands for auto\n",
    "data = data.reshape((2,2,-1))\n",
    "data.shape"
   ]
  },
  {
   "cell_type": "code",
   "execution_count": null,
   "id": "17645c1b-0d8d-4d42-9677-8611337ab697",
   "metadata": {},
   "outputs": [],
   "source": [
    "zeroes = np.zeros((8))\n",
    "print(zeroes)\n",
    "zeroes = np.append(zeroes, [3,4])\n",
    "print(zeroes)"
   ]
  },
  {
   "cell_type": "code",
   "execution_count": null,
   "id": "73085c64-1b57-44d4-bd59-74cfff0e2c91",
   "metadata": {},
   "outputs": [],
   "source": [
    "zeroes = np.insert(zeroes, 2, 1)"
   ]
  },
  {
   "cell_type": "code",
   "execution_count": null,
   "id": "4e118244-028d-4970-91ed-fd6abb5872f4",
   "metadata": {},
   "outputs": [],
   "source": [
    "zeroes"
   ]
  },
  {
   "cell_type": "markdown",
   "id": "a7d38e31-9480-4a9c-892d-ea3c9bca0408",
   "metadata": {},
   "source": [
    "# 4.Delete"
   ]
  },
  {
   "cell_type": "code",
   "execution_count": null,
   "id": "1841bacb-3770-46dd-aa51-f85595474d0c",
   "metadata": {},
   "outputs": [],
   "source": [
    "data"
   ]
  },
  {
   "cell_type": "code",
   "execution_count": null,
   "id": "8b29583a-25aa-4b5a-8c80-f3eb537cfdfc",
   "metadata": {},
   "outputs": [],
   "source": [
    "np.delete(data, 0, axis=1)"
   ]
  },
  {
   "cell_type": "code",
   "execution_count": null,
   "id": "4f063f03-1a9a-4f89-8faf-06bbc40d905a",
   "metadata": {},
   "outputs": [],
   "source": [
    "np.save(\"new array\", data)"
   ]
  },
  {
   "cell_type": "code",
   "execution_count": null,
   "id": "a167b26f-d984-4338-9ac9-4ef059b8c09d",
   "metadata": {},
   "outputs": [],
   "source": [
    "test = np.load(\"new array.npy\")"
   ]
  },
  {
   "cell_type": "code",
   "execution_count": null,
   "id": "97b85da5-58f9-41a3-ae7f-9592e01c213a",
   "metadata": {},
   "outputs": [],
   "source": [
    "test"
   ]
  },
  {
   "cell_type": "code",
   "execution_count": null,
   "id": "fc8beceb-2bb9-4458-a6fb-94af0e403273",
   "metadata": {},
   "outputs": [],
   "source": []
  },
  {
   "cell_type": "code",
   "execution_count": null,
   "id": "da403c7a-53d2-4f64-ae1a-ee4898577c7c",
   "metadata": {},
   "outputs": [],
   "source": []
  },
  {
   "cell_type": "code",
   "execution_count": null,
   "id": "195d387c-eb35-4fda-806e-415c86e0eb75",
   "metadata": {},
   "outputs": [],
   "source": []
  },
  {
   "cell_type": "code",
   "execution_count": null,
   "id": "c4ba5961-5712-46f8-b4a9-81eac94fcf4b",
   "metadata": {},
   "outputs": [],
   "source": []
  }
 ],
 "metadata": {
  "kernelspec": {
   "display_name": "Python 3 (ipykernel)",
   "language": "python",
   "name": "python3"
  },
  "language_info": {
   "codemirror_mode": {
    "name": "ipython",
    "version": 3
   },
   "file_extension": ".py",
   "mimetype": "text/x-python",
   "name": "python",
   "nbconvert_exporter": "python",
   "pygments_lexer": "ipython3",
   "version": "3.12.7"
  }
 },
 "nbformat": 4,
 "nbformat_minor": 5
}
